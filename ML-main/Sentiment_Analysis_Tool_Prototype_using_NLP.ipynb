{
  "nbformat": 4,
  "nbformat_minor": 0,
  "metadata": {
    "colab": {
      "provenance": [],
      "authorship_tag": "ABX9TyNVH7BgMZ5Wm1ngs3aXiDJC",
      "include_colab_link": true
    },
    "kernelspec": {
      "name": "python3",
      "display_name": "Python 3"
    },
    "language_info": {
      "name": "python"
    }
  },
  "cells": [
    {
      "cell_type": "markdown",
      "metadata": {
        "id": "view-in-github",
        "colab_type": "text"
      },
      "source": [
        "<a href=\"https://colab.research.google.com/github/AdibaMuskaan/ML/blob/main/Sentiment_Analysis_Tool_Prototype_using_NLP.ipynb\" target=\"_parent\"><img src=\"https://colab.research.google.com/assets/colab-badge.svg\" alt=\"Open In Colab\"/></a>"
      ]
    },
    {
      "cell_type": "code",
      "execution_count": 1,
      "metadata": {
        "colab": {
          "base_uri": "https://localhost:8080/"
        },
        "id": "FnEmQ-i2qGDn",
        "outputId": "23e847a4-34ee-4f1e-c325-0d722418935d"
      },
      "outputs": [
        {
          "output_type": "stream",
          "name": "stderr",
          "text": [
            "[nltk_data] Downloading package punkt to /root/nltk_data...\n",
            "[nltk_data]   Unzipping tokenizers/punkt.zip.\n"
          ]
        },
        {
          "output_type": "execute_result",
          "data": {
            "text/plain": [
              "True"
            ]
          },
          "metadata": {},
          "execution_count": 1
        }
      ],
      "source": [
        "import nltk\n",
        "from textblob import TextBlob\n",
        "nltk.download('punkt')  # Download tokenizer for NLTK\n"
      ]
    },
    {
      "cell_type": "code",
      "source": [
        "def preprocess_text(text):\n",
        "  \"\"\"\n",
        "  Preprocesses text data for sentiment analysis.\n",
        "\n",
        "  Args:\n",
        "      text: String containing the text to be preprocessed.\n",
        "\n",
        "  Returns:\n",
        "      A list of lowercase words after removing punctuation.\n",
        "  \"\"\"\n",
        "  # Remove punctuation\n",
        "  text = text.lower().replace(\",\", \"\").replace(\".\", \"\")\n",
        "  # Tokenize into words\n",
        "  words = nltk.word_tokenize(text)\n",
        "  return words\n"
      ],
      "metadata": {
        "id": "-T2fLww6qIA8"
      },
      "execution_count": 2,
      "outputs": []
    },
    {
      "cell_type": "code",
      "source": [
        "def analyze_sentiment(text):\n",
        "  \"\"\"\n",
        "  Analyzes the sentiment of a given text.\n",
        "\n",
        "  Args:\n",
        "      text: String containing the text to be analyzed.\n",
        "\n",
        "  Returns:\n",
        "      A tuple containing sentiment polarity (float) and subjectivity (float).\n",
        "  \"\"\"\n",
        "  # Preprocess text (optional)\n",
        "  # words = preprocess_text(text)\n",
        "  # Create TextBlob object\n",
        "  blob = TextBlob(text)\n",
        "  # Extract sentiment polarity and subjectivity\n",
        "  polarity = blob.sentiment.polarity\n",
        "  subjectivity = blob.sentiment.subjectivity\n",
        "  return polarity, subjectivity\n"
      ],
      "metadata": {
        "id": "CDRefZ6GqRcD"
      },
      "execution_count": 3,
      "outputs": []
    },
    {
      "cell_type": "code",
      "source": [
        "def main():\n",
        "  # Get user input\n",
        "  text = input(\"Enter a text to analyze sentiment: \")\n",
        "\n",
        "  # Analyze sentiment\n",
        "  polarity, subjectivity = analyze_sentiment(text)\n",
        "\n",
        "  # Determine sentiment category\n",
        "  if polarity > 0:\n",
        "    sentiment = \"Positive\"\n",
        "  elif polarity < 0:\n",
        "    sentiment = \"Negative\"\n",
        "  else:\n",
        "    sentiment = \"Neutral\"\n",
        "\n",
        "  # Display results\n",
        "  print(f\"Sentiment: {sentiment}\")\n",
        "  print(f\"Polarity: {polarity:.2f}\")  # Format polarity to 2 decimal places\n",
        "  print(f\"Subjectivity: {subjectivity:.2f}\")\n",
        "\n",
        "if __name__ == \"__main__\":\n",
        "  main()\n"
      ],
      "metadata": {
        "colab": {
          "base_uri": "https://localhost:8080/"
        },
        "id": "re6cJRrfqZbP",
        "outputId": "3f86a13a-242c-4b95-d6f1-18ef8fcfe056"
      },
      "execution_count": 6,
      "outputs": [
        {
          "output_type": "stream",
          "name": "stdout",
          "text": [
            "Enter a text to analyze sentiment: looking forward for good opportunity\n",
            "Sentiment: Positive\n",
            "Polarity: 0.70\n",
            "Subjectivity: 0.60\n"
          ]
        }
      ]
    }
  ]
}