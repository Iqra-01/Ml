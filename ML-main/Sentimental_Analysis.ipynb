{
  "nbformat": 4,
  "nbformat_minor": 0,
  "metadata": {
    "colab": {
      "provenance": [],
      "authorship_tag": "ABX9TyMBmDOcKmIhreZAWwJlpDhJ",
      "include_colab_link": true
    },
    "kernelspec": {
      "name": "python3",
      "display_name": "Python 3"
    },
    "language_info": {
      "name": "python"
    }
  },
  "cells": [
    {
      "cell_type": "markdown",
      "metadata": {
        "id": "view-in-github",
        "colab_type": "text"
      },
      "source": [
        "<a href=\"https://colab.research.google.com/github/AdibaMuskaan/ML/blob/main/Sentimental_Analysis.ipynb\" target=\"_parent\"><img src=\"https://colab.research.google.com/assets/colab-badge.svg\" alt=\"Open In Colab\"/></a>"
      ]
    },
    {
      "cell_type": "code",
      "execution_count": 11,
      "metadata": {
        "colab": {
          "base_uri": "https://localhost:8080/"
        },
        "id": "gcIdIn_Gcf33",
        "outputId": "63cd04b3-85e2-4561-b35e-faae21c24c37"
      },
      "outputs": [
        {
          "output_type": "stream",
          "name": "stderr",
          "text": [
            "[nltk_data] Downloading package punkt to /root/nltk_data...\n",
            "[nltk_data]   Package punkt is already up-to-date!\n"
          ]
        },
        {
          "output_type": "execute_result",
          "data": {
            "text/plain": [
              "True"
            ]
          },
          "metadata": {},
          "execution_count": 11
        }
      ],
      "source": [
        "#1. Dependencies:\n",
        "import nltk\n",
        "from textblob import TextBlob\n",
        "nltk.download('punkt')  # Download tokenizer for NLTK"
      ]
    },
    {
      "cell_type": "code",
      "source": [
        "#2. Preprocessing Function (Optional):\n",
        "#This function can handle tasks like removing punctuation, converting text to lowercase, and tokenizing sentences.\n",
        "\n",
        "def preprocess_text(text):\n",
        "  \"\"\"\n",
        "  Preprocesses text data for sentiment analysis.\n",
        "\n",
        "  Args:\n",
        "      text: String containing the text to be preprocessed.\n",
        "\n",
        "  Returns:\n",
        "      A list of lowercase words after removing punctuation.\n",
        "  \"\"\"\n",
        "  # Remove punctuation\n",
        "  text = text.lower().replace(\",\", \"\").replace(\".\", \"\")\n",
        "  # Tokenize into words\n",
        "  words = nltk.word_tokenize(text)\n",
        "  return words"
      ],
      "metadata": {
        "id": "OYQBjB2Kjh8j"
      },
      "execution_count": 12,
      "outputs": []
    },
    {
      "cell_type": "code",
      "source": [
        "#3. Sentiment Analysis Function:\n",
        "#This function utilizes TextBlob to perform sentiment analysis.\n",
        "def analyze_sentiment(text):\n",
        "  \"\"\"\n",
        "  Analyzes the sentiment of a given text.\n",
        "\n",
        "  Args:\n",
        "      text: String containing the text to be analyzed.\n",
        "\n",
        "  Returns:\n",
        "      A tuple containing sentiment polarity (float) and subjectivity (float).\n",
        "  \"\"\"\n",
        "  # Preprocess text (optional)\n",
        "  # words = preprocess_text(text)\n",
        "  # Create TextBlob object\n",
        "  blob = TextBlob(text)\n",
        "  # Extract sentiment polarity and subjectivity\n",
        "  polarity = blob.sentiment.polarity\n",
        "  subjectivity = blob.sentiment.subjectivity\n",
        "  return polarity, subjectivity"
      ],
      "metadata": {
        "id": "6t50OLGWjnKf"
      },
      "execution_count": 13,
      "outputs": []
    },
    {
      "cell_type": "code",
      "source": [
        "#4. Main Function:\n",
        "#This function takes user input, analyzes sentiment, and displays results.\n",
        "def main():\n",
        "  # Get user input\n",
        "  text = input(\"Enter a text to analyze sentiment: \")\n",
        "\n",
        "  # Analyze sentiment\n",
        "  polarity, subjectivity = analyze_sentiment(text)\n",
        "\n",
        "  # Determine sentiment category\n",
        "  if polarity > 0:\n",
        "    sentiment = \"Positive\"\n",
        "  elif polarity < 0:\n",
        "    sentiment = \"Negative\"\n",
        "  else:\n",
        "    sentiment = \"Neutral\"\n",
        "\n",
        "  # Display results\n",
        "  print(f\"Sentiment: {sentiment}\")\n",
        "  print(f\"Polarity: {polarity:.2f}\")  # Format polarity to 2 decimal places\n",
        "  print(f\"Subjectivity: {subjectivity:.2f}\")\n",
        "\n",
        "if __name__ == \"__main__\":\n",
        "  main()"
      ],
      "metadata": {
        "colab": {
          "base_uri": "https://localhost:8080/"
        },
        "id": "Z0bDTJ-ejtkp",
        "outputId": "d30f0869-44bc-4bc3-a89d-4bcfd4401008"
      },
      "execution_count": 14,
      "outputs": [
        {
          "output_type": "stream",
          "name": "stdout",
          "text": [
            "Enter a text to analyze sentiment: This product is amazing! I love it.\n",
            "Sentiment: Positive\n",
            "Polarity: 0.62\n",
            "Subjectivity: 0.75\n"
          ]
        }
      ]
    }
  ]
}